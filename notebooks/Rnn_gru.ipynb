{
 "nbformat": 4,
 "nbformat_minor": 0,
 "metadata": {
  "colab": {
   "provenance": []
  },
  "kernelspec": {
   "name": "python3",
   "display_name": "Python 3"
  },
  "accelerator": "GPU"
 },
 "cells": [
  {
   "cell_type": "code",
   "metadata": {
    "id": "x4XtWvnjxdMn",
    "pycharm": {
     "name": "#%%\n"
    }
   },
   "source": [],
   "execution_count": null,
   "outputs": []
  },
  {
   "cell_type": "code",
   "metadata": {
    "id": "o3VVMseVxmFL",
    "pycharm": {
     "name": "#%%\n"
    }
   },
   "source": [
    "# !kaggle datasets download fullmetal26/glovetwitter27b100dtxt\n",
    "# !unzip glovetwitter27b100dtxt.zip"
   ],
   "execution_count": 1,
   "outputs": []
  },
  {
   "cell_type": "code",
   "metadata": {
    "id": "LUDYEREAydsp",
    "pycharm": {
     "name": "#%%\n",
     "is_executing": true
    }
   },
   "source": [
    "import tensorflow.keras\n",
    "from tensorflow.keras.models import Sequential\n",
    "from tensorflow.keras.layers import InputLayer, Dense, SimpleRNN, Activation, Dropout, Conv1D\n",
    "from tensorflow.keras.layers import Embedding, Flatten, LSTM, GRU\n",
    "from tensorflow.keras.preprocessing.text import Tokenizer\n",
    "from tensorflow.keras.preprocessing.sequence import pad_sequences\n",
    "from tensorflow.keras.callbacks import EarlyStopping\n",
    "import pandas as pd\n",
    "import numpy as np\n",
    "import spacy\n",
    "from sklearn.metrics import classification_report"
   ],
   "execution_count": null,
   "outputs": []
  },
  {
   "cell_type": "code",
   "metadata": {
    "id": "PpCzwdqF1V28",
    "colab": {
     "base_uri": "https://localhost:8080/"
    },
    "outputId": "b30af47d-b7f4-495d-c0c7-b47d1d4592f5",
    "pycharm": {
     "name": "#%%\n",
     "is_executing": true
    }
   },
   "source": [
    "def load_glove_model(glove_file):\n",
    "    print(\"[INFO]Loading GloVe Model...\")\n",
    "    model = {}\n",
    "    with open(glove_file, 'r', encoding=\"utf-8\") as f:\n",
    "        for line in f:\n",
    "            split_line = line.split()\n",
    "            word = split_line[0]\n",
    "            embeddings = [float(val) for val in split_line[1:]]\n",
    "            model[word] = embeddings\n",
    "    print(\"[INFO] Done...{} words loaded!\".format(len(model)))\n",
    "    return model\n",
    "glove_model = load_glove_model(\"/content/glove.twitter.27B.100d.txt\")"
   ],
   "execution_count": null,
   "outputs": [
    {
     "output_type": "stream",
     "name": "stdout",
     "text": [
      "[INFO]Loading GloVe Model...\n",
      "[INFO] Done...14726 words loaded!\n"
     ]
    }
   ]
  },
  {
   "cell_type": "code",
   "source": [],
   "metadata": {
    "id": "nTA-aVZ1y1Yv",
    "pycharm": {
     "name": "#%%\n"
    }
   },
   "execution_count": null,
   "outputs": []
  },
  {
   "cell_type": "code",
   "metadata": {
    "id": "OfhlThm6d-Z3",
    "pycharm": {
     "name": "#%%\n"
    }
   },
   "source": [
    "# adopted from utils.py\n",
    "nlp = spacy.load(\"en_core_web_sm\")\n",
    "\n",
    "def remove_stopwords(sentence):\n",
    "    '''\n",
    "    function to remove stopwords\n",
    "        input: sentence - string of sentence\n",
    "    '''\n",
    "    new = []\n",
    "    # tokenize sentence\n",
    "    sentence = nlp(sentence)\n",
    "    for tk in sentence:\n",
    "        if (tk.is_stop == False) & (tk.pos_ !=\"PUNCT\"):\n",
    "            new.append(tk.string.strip())\n",
    "    # convert back to sentence string\n",
    "    c = \" \".join(str(x) for x in new)\n",
    "    return c\n",
    "\n",
    "\n",
    "def lemmatize(sentence):\n",
    "    '''\n",
    "    function to do lemmatization\n",
    "        input: sentence - string of sentence\n",
    "    '''\n",
    "    sentence = nlp(sentence)\n",
    "    s = \"\"\n",
    "    for w in sentence:\n",
    "        s +=\" \"+w.lemma_\n",
    "    return nlp(s)\n",
    "\n",
    "def sent_vectorizer(sent, model):\n",
    "    '''\n",
    "    sentence vectorizer using the pretrained glove model\n",
    "    '''\n",
    "    sent_vector = np.zeros(200)\n",
    "    num_w = 0\n",
    "    for w in sent.split():\n",
    "        try:\n",
    "            # add up all token vectors to a sent_vector\n",
    "            sent_vector = np.add(sent_vector, model[str(w)])\n",
    "            num_w += 1\n",
    "        except:\n",
    "            pass\n",
    "    return sent_vector"
   ],
   "execution_count": null,
   "outputs": []
  },
  {
   "cell_type": "code",
   "metadata": {
    "id": "AQo2fseg2TIu",
    "pycharm": {
     "name": "#%%\n"
    }
   },
   "source": [
    "# !wget https://raw.githubusercontent.com/haochen23/nlp-rnn-lstm-sentiment/master/training.1600000.processed.noemoticon.csv"
   ],
   "execution_count": null,
   "outputs": []
  },
  {
   "cell_type": "code",
   "metadata": {
    "id": "TFAlVSfR-LOf",
    "colab": {
     "base_uri": "https://localhost:8080/",
     "height": 223
    },
    "outputId": "e46b38f9-6c42-4b46-da0a-972ccaadd08a",
    "pycharm": {
     "name": "#%%\n"
    }
   },
   "source": [
    "# data = pd.read_csv(\"training.1600000.processed.noemoticon.csv\", header=None, encoding='latin-1')\n",
    "data = pd.read_csv(\"/content/pre_processed_final.csv\")\n",
    "print(data.shape)\n",
    "data = data[[\"sentiment\", \"text\"]]\n",
    "data = data.dropna()\n",
    "data.head()"
   ],
   "execution_count": null,
   "outputs": [
    {
     "output_type": "stream",
     "name": "stdout",
     "text": [
      "(28777, 3)\n"
     ]
    },
    {
     "output_type": "execute_result",
     "data": {
      "text/plain": [
       "   sentiment                                               text\n",
       "0        1.0  is lookin 4ward to a long weekend  really dont...\n",
       "1        1.0  myweakness  is music and i live to meet the pe...\n",
       "2        1.0            figured out the internet on my new ipod\n",
       "3        1.0  cant wait to worship with you guys tonight itl...\n",
       "4        1.0  congrats james  im sure the book is going to b..."
      ],
      "text/html": [
       "\n",
       "  <div id=\"df-d01852ae-0e45-4608-a35c-ae821c0c31a3\">\n",
       "    <div class=\"colab-df-container\">\n",
       "      <div>\n",
       "<style scoped>\n",
       "    .dataframe tbody tr th:only-of-type {\n",
       "        vertical-align: middle;\n",
       "    }\n",
       "\n",
       "    .dataframe tbody tr th {\n",
       "        vertical-align: top;\n",
       "    }\n",
       "\n",
       "    .dataframe thead th {\n",
       "        text-align: right;\n",
       "    }\n",
       "</style>\n",
       "<table border=\"1\" class=\"dataframe\">\n",
       "  <thead>\n",
       "    <tr style=\"text-align: right;\">\n",
       "      <th></th>\n",
       "      <th>sentiment</th>\n",
       "      <th>text</th>\n",
       "    </tr>\n",
       "  </thead>\n",
       "  <tbody>\n",
       "    <tr>\n",
       "      <th>0</th>\n",
       "      <td>1.0</td>\n",
       "      <td>is lookin 4ward to a long weekend  really dont...</td>\n",
       "    </tr>\n",
       "    <tr>\n",
       "      <th>1</th>\n",
       "      <td>1.0</td>\n",
       "      <td>myweakness  is music and i live to meet the pe...</td>\n",
       "    </tr>\n",
       "    <tr>\n",
       "      <th>2</th>\n",
       "      <td>1.0</td>\n",
       "      <td>figured out the internet on my new ipod</td>\n",
       "    </tr>\n",
       "    <tr>\n",
       "      <th>3</th>\n",
       "      <td>1.0</td>\n",
       "      <td>cant wait to worship with you guys tonight itl...</td>\n",
       "    </tr>\n",
       "    <tr>\n",
       "      <th>4</th>\n",
       "      <td>1.0</td>\n",
       "      <td>congrats james  im sure the book is going to b...</td>\n",
       "    </tr>\n",
       "  </tbody>\n",
       "</table>\n",
       "</div>\n",
       "      <button class=\"colab-df-convert\" onclick=\"convertToInteractive('df-d01852ae-0e45-4608-a35c-ae821c0c31a3')\"\n",
       "              title=\"Convert this dataframe to an interactive table.\"\n",
       "              style=\"display:none;\">\n",
       "        \n",
       "  <svg xmlns=\"http://www.w3.org/2000/svg\" height=\"24px\"viewBox=\"0 0 24 24\"\n",
       "       width=\"24px\">\n",
       "    <path d=\"M0 0h24v24H0V0z\" fill=\"none\"/>\n",
       "    <path d=\"M18.56 5.44l.94 2.06.94-2.06 2.06-.94-2.06-.94-.94-2.06-.94 2.06-2.06.94zm-11 1L8.5 8.5l.94-2.06 2.06-.94-2.06-.94L8.5 2.5l-.94 2.06-2.06.94zm10 10l.94 2.06.94-2.06 2.06-.94-2.06-.94-.94-2.06-.94 2.06-2.06.94z\"/><path d=\"M17.41 7.96l-1.37-1.37c-.4-.4-.92-.59-1.43-.59-.52 0-1.04.2-1.43.59L10.3 9.45l-7.72 7.72c-.78.78-.78 2.05 0 2.83L4 21.41c.39.39.9.59 1.41.59.51 0 1.02-.2 1.41-.59l7.78-7.78 2.81-2.81c.8-.78.8-2.07 0-2.86zM5.41 20L4 18.59l7.72-7.72 1.47 1.35L5.41 20z\"/>\n",
       "  </svg>\n",
       "      </button>\n",
       "      \n",
       "  <style>\n",
       "    .colab-df-container {\n",
       "      display:flex;\n",
       "      flex-wrap:wrap;\n",
       "      gap: 12px;\n",
       "    }\n",
       "\n",
       "    .colab-df-convert {\n",
       "      background-color: #E8F0FE;\n",
       "      border: none;\n",
       "      border-radius: 50%;\n",
       "      cursor: pointer;\n",
       "      display: none;\n",
       "      fill: #1967D2;\n",
       "      height: 32px;\n",
       "      padding: 0 0 0 0;\n",
       "      width: 32px;\n",
       "    }\n",
       "\n",
       "    .colab-df-convert:hover {\n",
       "      background-color: #E2EBFA;\n",
       "      box-shadow: 0px 1px 2px rgba(60, 64, 67, 0.3), 0px 1px 3px 1px rgba(60, 64, 67, 0.15);\n",
       "      fill: #174EA6;\n",
       "    }\n",
       "\n",
       "    [theme=dark] .colab-df-convert {\n",
       "      background-color: #3B4455;\n",
       "      fill: #D2E3FC;\n",
       "    }\n",
       "\n",
       "    [theme=dark] .colab-df-convert:hover {\n",
       "      background-color: #434B5C;\n",
       "      box-shadow: 0px 1px 3px 1px rgba(0, 0, 0, 0.15);\n",
       "      filter: drop-shadow(0px 1px 2px rgba(0, 0, 0, 0.3));\n",
       "      fill: #FFFFFF;\n",
       "    }\n",
       "  </style>\n",
       "\n",
       "      <script>\n",
       "        const buttonEl =\n",
       "          document.querySelector('#df-d01852ae-0e45-4608-a35c-ae821c0c31a3 button.colab-df-convert');\n",
       "        buttonEl.style.display =\n",
       "          google.colab.kernel.accessAllowed ? 'block' : 'none';\n",
       "\n",
       "        async function convertToInteractive(key) {\n",
       "          const element = document.querySelector('#df-d01852ae-0e45-4608-a35c-ae821c0c31a3');\n",
       "          const dataTable =\n",
       "            await google.colab.kernel.invokeFunction('convertToInteractive',\n",
       "                                                     [key], {});\n",
       "          if (!dataTable) return;\n",
       "\n",
       "          const docLinkHtml = 'Like what you see? Visit the ' +\n",
       "            '<a target=\"_blank\" href=https://colab.research.google.com/notebooks/data_table.ipynb>data table notebook</a>'\n",
       "            + ' to learn more about interactive tables.';\n",
       "          element.innerHTML = '';\n",
       "          dataTable['output_type'] = 'display_data';\n",
       "          await google.colab.output.renderOutput(dataTable, element);\n",
       "          const docLink = document.createElement('div');\n",
       "          docLink.innerHTML = docLinkHtml;\n",
       "          element.appendChild(docLink);\n",
       "        }\n",
       "      </script>\n",
       "    </div>\n",
       "  </div>\n",
       "  "
      ]
     },
     "metadata": {},
     "execution_count": 8
    }
   ]
  },
  {
   "cell_type": "code",
   "metadata": {
    "id": "yVX5M3jV_WOT",
    "pycharm": {
     "name": "#%%\n"
    }
   },
   "source": [
    "data_X = data['text']\n",
    "data_y = data['sentiment']\n",
    "data_y = pd.get_dummies(data_y)"
   ],
   "execution_count": null,
   "outputs": []
  },
  {
   "cell_type": "code",
   "metadata": {
    "id": "vt_DCR2SGvGR",
    "colab": {
     "base_uri": "https://localhost:8080/"
    },
    "outputId": "f464bc78-8997-4e5d-fce2-ea8c311e2ed8",
    "pycharm": {
     "name": "#%%\n"
    }
   },
   "source": [
    "data_y = data_y.to_numpy()\n",
    "data_y"
   ],
   "execution_count": null,
   "outputs": [
    {
     "output_type": "execute_result",
     "data": {
      "text/plain": [
       "array([[0, 0, 1],\n",
       "       [0, 0, 1],\n",
       "       [0, 0, 1],\n",
       "       ...,\n",
       "       [0, 1, 0],\n",
       "       [0, 1, 0],\n",
       "       [0, 1, 0]], dtype=uint8)"
      ]
     },
     "metadata": {},
     "execution_count": 10
    }
   ]
  },
  {
   "cell_type": "code",
   "source": [
    "n = 6542\n",
    "print(data['sentiment'][n], data_y[n])"
   ],
   "metadata": {
    "colab": {
     "base_uri": "https://localhost:8080/"
    },
    "id": "euffkr1Y3uKM",
    "outputId": "e942b497-a583-4d96-a16e-411c8631f717",
    "pycharm": {
     "name": "#%%\n"
    }
   },
   "execution_count": null,
   "outputs": [
    {
     "output_type": "stream",
     "name": "stdout",
     "text": [
      "-1.0 [1 0 0]\n"
     ]
    }
   ]
  },
  {
   "cell_type": "code",
   "metadata": {
    "id": "SMpyUa8Dt8zH",
    "pycharm": {
     "name": "#%%\n"
    }
   },
   "source": [
    "max_vocab = 18000\n",
    "max_len = 15\n",
    "tokenizer = Tokenizer(num_words=max_vocab)"
   ],
   "execution_count": null,
   "outputs": []
  },
  {
   "cell_type": "code",
   "metadata": {
    "id": "m2mtdUG0uN8Z",
    "colab": {
     "base_uri": "https://localhost:8080/"
    },
    "outputId": "8c95fba6-f078-432d-ccef-5f5cc3e9f3e9",
    "pycharm": {
     "name": "#%%\n"
    }
   },
   "source": [
    "data_X = data_X.to_numpy()\n",
    "print(data_X)\n",
    "tokenizer.fit_on_texts(data_X)\n",
    "sequences = tokenizer.texts_to_sequences(data_X)\n",
    "word_index = tokenizer.word_index\n"
   ],
   "execution_count": null,
   "outputs": [
    {
     "output_type": "stream",
     "name": "stdout",
     "text": [
      "['is lookin 4ward to a long weekend  really dont want to go to work 2day tho  x'\n",
      " 'myweakness  is music and i live to meet the people who make it'\n",
      " 'figured out the internet on my new ipod' ...\n",
      " 'speaking of chris jericho it is wednesday today is it not time for some catching up on wrestling'\n",
      " 'im so jealous of everyone at the justin bieber concert no worries tho ill be seeing maroon 5 in march  roadtrippin'\n",
      " 'trending tim tebow is now dating cave woman from 10000 bc 1st date question what was it like in a time before jesus  tebowmania']\n"
     ]
    }
   ]
  },
  {
   "cell_type": "code",
   "metadata": {
    "id": "FbJ6pmtyue9k",
    "colab": {
     "base_uri": "https://localhost:8080/"
    },
    "outputId": "7b9ab2c2-f26a-4912-fc4d-623dc28763ab",
    "pycharm": {
     "name": "#%%\n"
    }
   },
   "source": [
    "print('Found %s unique tokens.' % len(word_index))"
   ],
   "execution_count": null,
   "outputs": [
    {
     "output_type": "stream",
     "name": "stdout",
     "text": [
      "Found 30651 unique tokens.\n"
     ]
    }
   ]
  },
  {
   "cell_type": "code",
   "metadata": {
    "id": "cd230kpIvde3",
    "colab": {
     "base_uri": "https://localhost:8080/"
    },
    "outputId": "65a87559-6ca9-4761-e123-cf9f4c9088e7",
    "pycharm": {
     "name": "#%%\n"
    }
   },
   "source": [
    "data_keras = pad_sequences(sequences, maxlen=max_len, padding=\"post\")\n",
    "# data_keras = data_keras.reshape(data_X.shape[0], 15, 1)\n",
    "data_keras.shape\n",
    "\n"
   ],
   "execution_count": null,
   "outputs": [
    {
     "output_type": "execute_result",
     "data": {
      "text/plain": [
       "(28398, 15)"
      ]
     },
     "metadata": {},
     "execution_count": 15
    }
   ]
  },
  {
   "cell_type": "code",
   "metadata": {
    "id": "eBWMDqltvnHK",
    "pycharm": {
     "name": "#%%\n"
    }
   },
   "source": [
    "from sklearn.model_selection import train_test_split\n",
    "train_X, valid_X, train_y, valid_y = train_test_split(data_keras, data_y, test_size = 0.3, random_state=42)"
   ],
   "execution_count": null,
   "outputs": []
  },
  {
   "cell_type": "code",
   "metadata": {
    "id": "w6didFc14I-9",
    "pycharm": {
     "name": "#%%\n"
    }
   },
   "source": [],
   "execution_count": 1,
   "outputs": []
  },
  {
   "cell_type": "code",
   "metadata": {
    "id": "dLfSN1Is43Kl",
    "pycharm": {
     "name": "#%%\n"
    }
   },
   "source": [
    "# adopted from sent_tran_eval.py\n",
    "def build_model(nb_words, rnn_model=\"SimpleRNN\", embedding_matrix=None):\n",
    "    '''\n",
    "    build_model function:\n",
    "    inputs: \n",
    "        rnn_model - which type of RNN layer to use, choose in (SimpleRNN, LSTM, GRU)\n",
    "        embedding_matrix - whether to use pretrained embeddings or not\n",
    "    '''\n",
    "    model = Sequential()\n",
    "    # add an embedding layer\n",
    "    if embedding_matrix is not None:\n",
    "        model.add(Embedding(nb_words, \n",
    "                        100, \n",
    "                        weights=[embedding_matrix], \n",
    "                        input_length= max_len,\n",
    "                        trainable = False))\n",
    "    else:\n",
    "        model.add(Embedding(nb_words, \n",
    "                        100, \n",
    "                        input_length= max_len,\n",
    "                        trainable = False))\n",
    "        \n",
    "    # add an RNN layer according to rnn_model\n",
    "    if rnn_model == \"SimpleRNN\":\n",
    "        model.add(SimpleRNN(200))\n",
    "    elif rnn_model == \"LSTM\":\n",
    "        model.add(LSTM(200))\n",
    "    else:\n",
    "        model.add(GRU(200))\n",
    "    # model.add(Dense(500,activation='relu'))\n",
    "    # model.add(Dense(500, activation='relu'))\n",
    "    model.add(Dense(3, activation='softmax'))\n",
    "    \n",
    "    model.compile(loss='categorical_crossentropy', \n",
    "                optimizer='adam',\n",
    "                metrics=['accuracy'])\n",
    "    return model"
   ],
   "execution_count": null,
   "outputs": []
  },
  {
   "cell_type": "code",
   "metadata": {
    "id": "3QoxYEfl6zr5",
    "colab": {
     "base_uri": "https://localhost:8080/"
    },
    "outputId": "25fbe82b-0efd-4498-ed4f-f341b59ad5ac",
    "pycharm": {
     "name": "#%%\n"
    }
   },
   "source": [
    "model_rnn = build_model(nb_words, \"SimpleRNN\", embedding_matrix)\n",
    "model_rnn.fit(train_X, train_y, epochs=20, batch_size=60,\n",
    "          validation_data=(valid_X, valid_y), callbacks=EarlyStopping(monitor='val_accuracy', mode='max',patience=3))\n",
    "predictions = model_rnn.predict(valid_X)\n",
    "predictions = predictions.argmax(axis=1)\n",
    "print(classification_report(valid_y.argmax(axis=1), predictions))"
   ],
   "execution_count": null,
   "outputs": [
    {
     "output_type": "stream",
     "name": "stdout",
     "text": [
      "Epoch 1/20\n",
      "332/332 [==============================] - 9s 22ms/step - loss: 0.8797 - accuracy: 0.6029 - val_loss: 0.8347 - val_accuracy: 0.6276\n",
      "Epoch 2/20\n",
      "332/332 [==============================] - 7s 22ms/step - loss: 0.8074 - accuracy: 0.6448 - val_loss: 0.8295 - val_accuracy: 0.6332\n",
      "Epoch 3/20\n",
      "332/332 [==============================] - 7s 22ms/step - loss: 0.7756 - accuracy: 0.6625 - val_loss: 0.8063 - val_accuracy: 0.6413\n",
      "Epoch 4/20\n",
      "332/332 [==============================] - 6s 18ms/step - loss: 0.7521 - accuracy: 0.6778 - val_loss: 0.8437 - val_accuracy: 0.6286\n",
      "Epoch 5/20\n",
      "332/332 [==============================] - 7s 22ms/step - loss: 0.7238 - accuracy: 0.6912 - val_loss: 0.8480 - val_accuracy: 0.6223\n",
      "Epoch 6/20\n",
      "332/332 [==============================] - 6s 18ms/step - loss: 0.6985 - accuracy: 0.7051 - val_loss: 0.8319 - val_accuracy: 0.6284\n",
      "267/267 [==============================] - 1s 4ms/step\n",
      "              precision    recall  f1-score   support\n",
      "\n",
      "           0       0.62      0.69      0.65      2713\n",
      "           1       0.58      0.59      0.58      2676\n",
      "           2       0.68      0.61      0.64      3131\n",
      "\n",
      "    accuracy                           0.63      8520\n",
      "   macro avg       0.63      0.63      0.63      8520\n",
      "weighted avg       0.63      0.63      0.63      8520\n",
      "\n"
     ]
    }
   ]
  },
  {
   "cell_type": "code",
   "metadata": {
    "id": "Yhj2fWHW-MZB",
    "colab": {
     "base_uri": "https://localhost:8080/"
    },
    "outputId": "e3d6b278-680b-4a30-9701-b234207308b8",
    "pycharm": {
     "name": "#%%\n"
    }
   },
   "source": [
    "model_lstm = build_model(nb_words, \"LSTM\", embedding_matrix)\n",
    "model_lstm.fit(train_X, train_y, epochs=20, batch_size=60,\n",
    "          validation_data=(valid_X, valid_y), callbacks=EarlyStopping(monitor='val_accuracy', mode='max',patience=3))\n",
    "predictions = model_lstm.predict(valid_X)\n",
    "predictions = predictions.argmax(axis=1)\n",
    "print(classification_report(valid_y.argmax(axis=1), predictions))\n"
   ],
   "execution_count": null,
   "outputs": [
    {
     "output_type": "stream",
     "name": "stdout",
     "text": [
      "Epoch 1/20\n",
      "332/332 [==============================] - 6s 9ms/step - loss: 0.8275 - accuracy: 0.6278 - val_loss: 0.7849 - val_accuracy: 0.6559\n",
      "Epoch 2/20\n",
      "332/332 [==============================] - 2s 7ms/step - loss: 0.7611 - accuracy: 0.6646 - val_loss: 0.7696 - val_accuracy: 0.6597\n",
      "Epoch 3/20\n",
      "332/332 [==============================] - 3s 8ms/step - loss: 0.7302 - accuracy: 0.6801 - val_loss: 0.7492 - val_accuracy: 0.6737\n",
      "Epoch 4/20\n",
      "332/332 [==============================] - 3s 9ms/step - loss: 0.7067 - accuracy: 0.6947 - val_loss: 0.7350 - val_accuracy: 0.6746\n",
      "Epoch 5/20\n",
      "332/332 [==============================] - 2s 7ms/step - loss: 0.6797 - accuracy: 0.7082 - val_loss: 0.7436 - val_accuracy: 0.6730\n",
      "Epoch 6/20\n",
      "332/332 [==============================] - 3s 8ms/step - loss: 0.6495 - accuracy: 0.7223 - val_loss: 0.7461 - val_accuracy: 0.6748\n",
      "Epoch 7/20\n",
      "332/332 [==============================] - 3s 8ms/step - loss: 0.6110 - accuracy: 0.7421 - val_loss: 0.7771 - val_accuracy: 0.6695\n",
      "Epoch 8/20\n",
      "332/332 [==============================] - 2s 7ms/step - loss: 0.5697 - accuracy: 0.7575 - val_loss: 0.7867 - val_accuracy: 0.6670\n",
      "Epoch 9/20\n",
      "332/332 [==============================] - 3s 9ms/step - loss: 0.5168 - accuracy: 0.7839 - val_loss: 0.8107 - val_accuracy: 0.6629\n",
      "267/267 [==============================] - 1s 2ms/step\n",
      "              precision    recall  f1-score   support\n",
      "\n",
      "           0       0.71      0.65      0.68      2713\n",
      "           1       0.63      0.59      0.61      2676\n",
      "           2       0.65      0.74      0.69      3131\n",
      "\n",
      "    accuracy                           0.66      8520\n",
      "   macro avg       0.66      0.66      0.66      8520\n",
      "weighted avg       0.66      0.66      0.66      8520\n",
      "\n"
     ]
    }
   ]
  },
  {
   "cell_type": "code",
   "metadata": {
    "id": "i8aoae6jN7tJ",
    "colab": {
     "base_uri": "https://localhost:8080/"
    },
    "outputId": "bbe72098-86bf-4168-9eec-48d0956be9c1",
    "pycharm": {
     "name": "#%%\n"
    }
   },
   "source": [
    "model_gru = build_model(nb_words, \"GRU\", embedding_matrix)\n",
    "# 20, 120\n",
    "model_gru.fit(train_X, train_y, epochs=10, batch_size=100,\n",
    "          validation_data=(valid_X, valid_y), callbacks=EarlyStopping(monitor='val_accuracy', mode='max',patience=3))\n",
    "predictions = model_gru.predict(valid_X)\n",
    "predictions = predictions.argmax(axis=1)\n",
    "print(classification_report(valid_y.argmax(axis=1), predictions))"
   ],
   "execution_count": null,
   "outputs": [
    {
     "output_type": "stream",
     "name": "stdout",
     "text": [
      "Epoch 1/10\n",
      "199/199 [==============================] - 5s 13ms/step - loss: 0.8451 - accuracy: 0.6132 - val_loss: 0.7816 - val_accuracy: 0.6554\n",
      "Epoch 2/10\n",
      "199/199 [==============================] - 2s 8ms/step - loss: 0.7586 - accuracy: 0.6658 - val_loss: 0.7607 - val_accuracy: 0.6670\n",
      "Epoch 3/10\n",
      "199/199 [==============================] - 1s 7ms/step - loss: 0.7338 - accuracy: 0.6802 - val_loss: 0.7473 - val_accuracy: 0.6710\n",
      "Epoch 4/10\n",
      "199/199 [==============================] - 1s 7ms/step - loss: 0.7129 - accuracy: 0.6899 - val_loss: 0.7345 - val_accuracy: 0.6813\n",
      "Epoch 5/10\n",
      "199/199 [==============================] - 1s 7ms/step - loss: 0.6924 - accuracy: 0.7021 - val_loss: 0.7690 - val_accuracy: 0.6637\n",
      "Epoch 6/10\n",
      "199/199 [==============================] - 1s 7ms/step - loss: 0.6670 - accuracy: 0.7135 - val_loss: 0.7367 - val_accuracy: 0.6813\n",
      "Epoch 7/10\n",
      "199/199 [==============================] - 1s 7ms/step - loss: 0.6408 - accuracy: 0.7290 - val_loss: 0.7548 - val_accuracy: 0.6812\n",
      "267/267 [==============================] - 1s 2ms/step\n",
      "              precision    recall  f1-score   support\n",
      "\n",
      "           0       0.70      0.72      0.71      2713\n",
      "           1       0.64      0.59      0.62      2676\n",
      "           2       0.70      0.72      0.71      3131\n",
      "\n",
      "    accuracy                           0.68      8520\n",
      "   macro avg       0.68      0.68      0.68      8520\n",
      "weighted avg       0.68      0.68      0.68      8520\n",
      "\n"
     ]
    }
   ]
  },
  {
   "cell_type": "code",
   "source": [
    "model_gru.save(\"rnn.h5\")"
   ],
   "metadata": {
    "id": "Q1OnkVwwZgX6",
    "pycharm": {
     "name": "#%%\n"
    }
   },
   "execution_count": null,
   "outputs": []
  },
  {
   "cell_type": "code",
   "source": [],
   "metadata": {
    "id": "FPq66qQoYdJo",
    "pycharm": {
     "name": "#%%\n"
    }
   },
   "execution_count": null,
   "outputs": []
  },
  {
   "cell_type": "code",
   "source": [],
   "metadata": {
    "id": "dbU-GzNCYuJG",
    "pycharm": {
     "name": "#%%\n"
    }
   },
   "execution_count": 1,
   "outputs": []
  },
  {
   "cell_type": "code",
   "metadata": {
    "id": "jWzBeclqH6i2",
    "pycharm": {
     "name": "#%%\n"
    }
   },
   "source": [],
   "execution_count": 1,
   "outputs": []
  },
  {
   "cell_type": "code",
   "source": [],
   "metadata": {
    "id": "Gw7OPAGyYSwx",
    "pycharm": {
     "name": "#%%\n"
    }
   },
   "execution_count": 1,
   "outputs": []
  },
  {
   "cell_type": "code",
   "source": [],
   "metadata": {
    "id": "5ptciApJZPx3",
    "pycharm": {
     "name": "#%%\n"
    }
   },
   "execution_count": 1,
   "outputs": []
  },
  {
   "cell_type": "code",
   "source": [],
   "metadata": {
    "id": "SG2MVSx1b-l2",
    "pycharm": {
     "name": "#%%\n"
    }
   },
   "execution_count": 1,
   "outputs": []
  },
  {
   "cell_type": "code",
   "source": [],
   "metadata": {
    "id": "76tpLk65cOQb",
    "pycharm": {
     "name": "#%%\n"
    }
   },
   "execution_count": 1,
   "outputs": []
  },
  {
   "cell_type": "code",
   "source": [],
   "metadata": {
    "id": "OCu_n25McvMZ",
    "pycharm": {
     "name": "#%%\n"
    }
   },
   "execution_count": 1,
   "outputs": []
  },
  {
   "cell_type": "code",
   "source": [],
   "metadata": {
    "id": "2EnkFboMiFDK",
    "pycharm": {
     "name": "#%%\n"
    }
   },
   "execution_count": 1,
   "outputs": []
  },
  {
   "cell_type": "code",
   "source": [],
   "metadata": {
    "id": "-sjcbHeomkX3",
    "pycharm": {
     "name": "#%%\n"
    }
   },
   "execution_count": 1,
   "outputs": []
  },
  {
   "cell_type": "code",
   "source": [],
   "metadata": {
    "id": "ktM10McXm6fq",
    "pycharm": {
     "name": "#%%\n"
    }
   },
   "execution_count": null,
   "outputs": []
  }
 ]
}